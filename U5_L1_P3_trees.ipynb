{
 "cells": [
  {
   "cell_type": "markdown",
   "metadata": {},
   "source": [
    "### DRILL:\n",
    "\n",
    "Implement a binary tree, which is filled with 15 pieces of random data. Your job is to then write a program to traverse the tree using a breadth first traversal. If you want additional practice, try other forms of traversal."
   ]
  },
  {
   "cell_type": "code",
   "execution_count": 3,
   "metadata": {},
   "outputs": [],
   "source": [
    "import numpy as np"
   ]
  },
  {
   "cell_type": "code",
   "execution_count": 102,
   "metadata": {},
   "outputs": [],
   "source": [
    "class Node:\n",
    "    def __init__(self, val):\n",
    "        self.left = None\n",
    "        self.right = None\n",
    "        self.val = val\n",
    "                \n",
    "   "
   ]
  },
  {
   "cell_type": "code",
   "execution_count": 132,
   "metadata": {},
   "outputs": [],
   "source": [
    "# Create a tree - manually, see below for a function\n",
    "rand = np.random.randint(0, 100, 15)\n",
    "\n",
    "root = Node(rand[0])\n",
    "root.left = Node(rand[1])\n",
    "root.right = Node(rand[2])\n",
    "\n",
    "root.left.left = Node(rand[3])\n",
    "root.left.right = Node(rand[4])\n",
    "root.right.left = Node(rand[5])\n",
    "root.right.right = Node(rand[6])\n",
    "\n",
    "root.left.left.left = Node(rand[7])\n",
    "root.left.left.right = Node(rand[8])\n",
    "root.left.right.left = Node(rand[9])\n",
    "root.left.right.right = Node(rand[10])\n",
    "\n",
    "root.right.left.left = Node(rand[11])\n",
    "root.right.left.right = Node(rand[12])\n",
    "root.right.right.left = Node(rand[13])\n",
    "root.right.right.right = Node(rand[14])"
   ]
  },
  {
   "cell_type": "code",
   "execution_count": 133,
   "metadata": {},
   "outputs": [],
   "source": [
    "def create_a_tree(size_tree, rand):\n",
    "\n",
    "    #rand = np.random.randint(0, 100, size_tree)\n",
    "    \n",
    "    root = Node(rand[0])\n",
    "\n",
    "    rand_ind = 1\n",
    "    arr_nodes2 = [root]\n",
    "\n",
    "    # This appends an extra 'None' to the tree if a leaf is empty\n",
    "    for i in range(0, size_tree // 2):\n",
    "        try:\n",
    "            arr_nodes2[i].left = Node(rand[rand_ind])\n",
    "            rand_ind += 1\n",
    "            if rand_ind < size_tree:\n",
    "                arr_nodes2[i].right = Node(rand[rand_ind])\n",
    "                rand_ind += 1\n",
    "            arr_nodes2.append(arr_nodes2[i].left)\n",
    "            if rand_ind < size_tree:\n",
    "                arr_nodes2.append(arr_nodes2[i].right)\n",
    "\n",
    "        except:\n",
    "            print('error')\n",
    "            break\n",
    "\n",
    "    return root, rand"
   ]
  },
  {
   "cell_type": "markdown",
   "metadata": {},
   "source": [
    "# Breadth first traversal"
   ]
  },
  {
   "cell_type": "code",
   "execution_count": 134,
   "metadata": {},
   "outputs": [],
   "source": [
    "def search_breadth(root, size_tree):\n",
    "    \n",
    "    arr_nodes = [root]\n",
    "    \n",
    "    # This appends an extra 'None' to the tree if a leaf is empty\n",
    "    for i in range(0, size_tree // 2):\n",
    "        try:\n",
    "            arr_nodes.append(arr_nodes[i].left)\n",
    "            arr_nodes.append(arr_nodes[i].right)\n",
    "            i += 1\n",
    "\n",
    "        except:\n",
    "            print('Done')\n",
    "            break\n",
    "\n",
    "    arr = []\n",
    "    for item in arr_nodes:\n",
    "        try:\n",
    "            arr.append(item.val)\n",
    "        except:\n",
    "            break\n",
    "\n",
    "    return arr\n",
    "\n"
   ]
  },
  {
   "cell_type": "code",
   "execution_count": 137,
   "metadata": {},
   "outputs": [
    {
     "name": "stdout",
     "output_type": "stream",
     "text": [
      "[75 77 73 42 18 31 69 75 74 41 45 41 57 27 27]\n",
      "[75, 77, 73, 42, 18, 31, 69, 75, 74, 41, 45, 41, 57, 27, 27]\n",
      "[75, 77, 73, 42, 18, 31, 69, 75, 74, 41, 45, 41, 57, 27, 27]\n"
     ]
    }
   ],
   "source": [
    "root2, rand = create_a_tree(15, rand)\n",
    "\n",
    "# Manually created tree\n",
    "arr = search_breadth(root, 15)\n",
    "\n",
    "# Tree created by function\n",
    "arr2 = search_breadth(root2, 15)\n",
    "\n",
    "# All three should be the same if the tree is formed and search correctly\n",
    "print(rand)\n",
    "print(arr)\n",
    "print(arr2)"
   ]
  },
  {
   "cell_type": "code",
   "execution_count": null,
   "metadata": {},
   "outputs": [],
   "source": []
  }
 ],
 "metadata": {
  "kernelspec": {
   "display_name": "Python 3",
   "language": "python",
   "name": "python3"
  },
  "language_info": {
   "codemirror_mode": {
    "name": "ipython",
    "version": 3
   },
   "file_extension": ".py",
   "mimetype": "text/x-python",
   "name": "python",
   "nbconvert_exporter": "python",
   "pygments_lexer": "ipython3",
   "version": "3.7.0"
  }
 },
 "nbformat": 4,
 "nbformat_minor": 2
}
