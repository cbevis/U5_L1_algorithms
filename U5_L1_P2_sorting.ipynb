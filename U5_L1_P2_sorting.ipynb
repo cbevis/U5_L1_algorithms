{
 "cells": [
  {
   "cell_type": "markdown",
   "metadata": {},
   "source": [
    "# Sorting\n",
    "Pick a sorting algorithm and implement it. <br>\n",
    "\n",
    "https://www.geeksforgeeks.org/quick-sort/ <br>\n",
    "https://en.wikipedia.org/wiki/Quicksort"
   ]
  },
  {
   "cell_type": "code",
   "execution_count": 41,
   "metadata": {},
   "outputs": [],
   "source": [
    "def quicksort(arr, low, high):\n",
    "    if (low < high):\n",
    "        \n",
    "        # pi is partitioning index, arr[pi] is already at the right place\n",
    "        pi, arr = partition(arr, low, high)\n",
    "        \n",
    "        # recursive part\n",
    "        quicksort(arr, low, pi-1) # Before partition\n",
    "        quicksort(arr, pi+1, high) # After partition\n",
    "        \n",
    "    return arr"
   ]
  },
  {
   "cell_type": "code",
   "execution_count": 42,
   "metadata": {},
   "outputs": [],
   "source": [
    "def partition(arr, low, high):\n",
    "    \n",
    "    # This is the partition value\n",
    "    part = arr[high]\n",
    "    \n",
    "    # This index tracks the spot of the last known item \n",
    "    # already partitioned on the smaller side\n",
    "    index = low\n",
    "    \n",
    "    for x in range(low, high + 1):\n",
    "        if arr[x] <= part:\n",
    "            # swap index and x values\n",
    "            arr[index], arr[x] = arr[x], arr[index]\n",
    "            index += 1\n",
    "            #print(arr)\n",
    "    \n",
    "    return index-1, arr"
   ]
  },
  {
   "cell_type": "code",
   "execution_count": 43,
   "metadata": {},
   "outputs": [
    {
     "name": "stdout",
     "output_type": "stream",
     "text": [
      "[1, 1, 2, 2, 3, 5, 6, 7, 8, 9, 10, 12, 15]\n"
     ]
    }
   ],
   "source": [
    "arr = [15, 1, 7, 3, 10, 9, 8, 2, 12, 6, 2, 1, 5]\n",
    "\n",
    "arr = quicksort(arr, 0, len(arr)-1)\n",
    "\n",
    "print(arr)"
   ]
  },
  {
   "cell_type": "code",
   "execution_count": null,
   "metadata": {},
   "outputs": [],
   "source": []
  },
  {
   "cell_type": "code",
   "execution_count": null,
   "metadata": {},
   "outputs": [],
   "source": []
  }
 ],
 "metadata": {
  "kernelspec": {
   "display_name": "Python 3",
   "language": "python",
   "name": "python3"
  },
  "language_info": {
   "codemirror_mode": {
    "name": "ipython",
    "version": 3
   },
   "file_extension": ".py",
   "mimetype": "text/x-python",
   "name": "python",
   "nbconvert_exporter": "python",
   "pygments_lexer": "ipython3",
   "version": "3.7.0"
  }
 },
 "nbformat": 4,
 "nbformat_minor": 2
}
